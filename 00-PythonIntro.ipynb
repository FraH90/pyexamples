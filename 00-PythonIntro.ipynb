{
  "nbformat": 4,
  "nbformat_minor": 0,
  "metadata": {
    "colab": {
      "provenance": [],
      "toc_visible": true,
      "authorship_tag": "ABX9TyOX7g3yoa/u1PHoDFU/ctE3",
      "include_colab_link": true
    },
    "kernelspec": {
      "name": "python3",
      "display_name": "Python 3"
    },
    "language_info": {
      "name": "python"
    }
  },
  "cells": [
    {
      "cell_type": "markdown",
      "metadata": {
        "id": "view-in-github",
        "colab_type": "text"
      },
      "source": [
        "<a href=\"https://colab.research.google.com/github/FraH90/pyexamples/blob/main/00-PythonIntro.ipynb\" target=\"_parent\"><img src=\"https://colab.research.google.com/assets/colab-badge.svg\" alt=\"Open In Colab\"/></a>"
      ]
    },
    {
      "cell_type": "markdown",
      "source": [
        "# Variables and strings"
      ],
      "metadata": {
        "id": "bczKQ7sFUiPu"
      }
    },
    {
      "cell_type": "code",
      "execution_count": 3,
      "metadata": {
        "colab": {
          "base_uri": "https://localhost:8080/"
        },
        "id": "OhIyeuKCPxRY",
        "outputId": "26f1aac6-27ab-4639-d680-3aae14967df0"
      },
      "outputs": [
        {
          "output_type": "stream",
          "name": "stdout",
          "text": [
            "Francesco is 34 years old\n",
            "\n",
            "<class 'str'> <class 'int'> \n",
            "\n",
            "Hello World\n",
            "\n",
            "This string has been split over several lines\n",
            "\n",
            "H d\n",
            "Hello World!\n"
          ]
        }
      ],
      "source": [
        "name = \"Francesco\"\n",
        "age = 34\n",
        "print(f'{name} is {age} years old\\n')\n",
        "\n",
        "print(type(name), type(age), '\\n')\n",
        "\n",
        "print(\"Hello \" + \"World\")\n",
        "print()\n",
        "\n",
        "# Use triple quotes, and escape the return character with \\\n",
        "split_string = \"\"\"This string \\\n",
        "has been split \\\n",
        "over several \\\n",
        "lines\n",
        "\"\"\"\n",
        "\n",
        "print(split_string)\n",
        "\n",
        "# Strings are sequences (sequences are similar to C arrays)\n",
        "# Sequences can be indexed using [], with both positive and negative index\n",
        "new_string = \"Hello World\"\n",
        "print(new_string[0], new_string[-1])\n",
        "\n",
        "# End a print with a custom character\n",
        "print(new_string, end='!\\n')"
      ]
    },
    {
      "cell_type": "markdown",
      "source": [
        "# New Section"
      ],
      "metadata": {
        "id": "OuMXfE1sUzod"
      }
    },
    {
      "cell_type": "code",
      "source": [],
      "metadata": {
        "id": "h1-Brq3jSGvt"
      },
      "execution_count": null,
      "outputs": []
    }
  ]
}