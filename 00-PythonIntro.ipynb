{
  "nbformat": 4,
  "nbformat_minor": 0,
  "metadata": {
    "colab": {
      "provenance": [],
      "toc_visible": true,
      "authorship_tag": "ABX9TyPl6Y2sTElx2kBzWGC8bm98",
      "include_colab_link": true
    },
    "kernelspec": {
      "name": "python3",
      "display_name": "Python 3"
    },
    "language_info": {
      "name": "python"
    }
  },
  "cells": [
    {
      "cell_type": "markdown",
      "metadata": {
        "id": "view-in-github",
        "colab_type": "text"
      },
      "source": [
        "<a href=\"https://colab.research.google.com/github/FraH90/pyexamples/blob/main/00-PythonIntro.ipynb\" target=\"_parent\"><img src=\"https://colab.research.google.com/assets/colab-badge.svg\" alt=\"Open In Colab\"/></a>"
      ]
    },
    {
      "cell_type": "markdown",
      "source": [
        "# Variables and strings"
      ],
      "metadata": {
        "id": "bczKQ7sFUiPu"
      }
    },
    {
      "cell_type": "code",
      "execution_count": 9,
      "metadata": {
        "colab": {
          "base_uri": "https://localhost:8080/"
        },
        "id": "OhIyeuKCPxRY",
        "outputId": "2c6fc0ef-205a-474c-c968-8538316b899d"
      },
      "outputs": [
        {
          "output_type": "stream",
          "name": "stdout",
          "text": [
            "a+b = 28, a-b=14, a*b=147, a/b=3.0\n",
            "Francesco is 34 years old\n",
            "\n",
            "Object \"name\" is of type <class 'str'>\n",
            "Object \"age\" is of type <class 'int'>\n",
            "Object \"pi_approx\" is of type <class 'float'>\n",
            "\n",
            "The following print results from the concatenation of two strings:\n",
            "Hello World\n",
            "\n",
            "This string has been split (in the source code) over several lines\n",
            "\n",
            "Hello World!\n",
            "Extract the first and the last character from a string\n",
            "H d\n"
          ]
        }
      ],
      "source": [
        "# Variable declaration and basic math expressions;\n",
        "# Print a statement to terminal using print() function and f-strings\n",
        "a = 21\n",
        "b = 7\n",
        "c1 = a + b\n",
        "c2 = a - b\n",
        "c3 = a * b\n",
        "c4 = a / b\n",
        "print(f'a+b = {c1}, a-b={c2}, a*b={c3}, a/b={c4}')\n",
        "\n",
        "# Another statement example\n",
        "# OSS: Strings can be declared using double quotes or single quotes\n",
        "name = \"Francesco\"\n",
        "age = 34\n",
        "pi_approx = 3.14\n",
        "f_string = f'{name} is {age} years old'\n",
        "print(f'{name} is {age} years old\\n')\n",
        "\n",
        "# Object type\n",
        "print(f'Object \"name\" is of type {type(name)}')\n",
        "print(f'Object \"age\" is of type {type(age)}')\n",
        "print(f'Object \"pi_approx\" is of type {type(pi_approx)}\\n')\n",
        "\n",
        "# String concatenation\n",
        "print(\"The following print results from the concatenation of two strings:\")\n",
        "print(\"Hello \" + \"World\")\n",
        "print()\n",
        "\n",
        "# Split a string over several lines by using triple quotes, and escape the return character with \\\n",
        "split_string = \"\"\"This string \\\n",
        "has been split \\\n",
        "(in the source code) \\\n",
        "over several \\\n",
        "lines\n",
        "\"\"\"\n",
        "print(split_string)\n",
        "\n",
        "# End a print with a custom character at the end\n",
        "new_string = \"Hello World\"\n",
        "print(new_string, end='!\\n')\n",
        "# Strings are sequences (sequences are similar to C arrays)\n",
        "# Sequences can be indexed using [], with both positive and negative index\n",
        "print(\"Extract the first and the last character from a string\")\n",
        "print(new_string[0], new_string[-1])\n",
        "\n"
      ]
    },
    {
      "cell_type": "markdown",
      "source": [
        "# New Section"
      ],
      "metadata": {
        "id": "OuMXfE1sUzod"
      }
    },
    {
      "cell_type": "code",
      "source": [],
      "metadata": {
        "id": "h1-Brq3jSGvt"
      },
      "execution_count": null,
      "outputs": []
    }
  ]
}